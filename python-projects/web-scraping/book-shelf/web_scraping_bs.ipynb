{
 "cells": [
  {
   "cell_type": "markdown",
   "metadata": {},
   "source": [
    "# Web Scraping in Python with BeatifulSoup"
   ]
  },
  {
   "cell_type": "code",
   "execution_count": null,
   "metadata": {},
   "outputs": [],
   "source": [
    "# Installing the packages to scrape\n",
    "%pip install bs4\n",
    "%pip install requests\n",
    "%pip install pandas"
   ]
  },
  {
   "cell_type": "code",
   "execution_count": null,
   "metadata": {},
   "outputs": [],
   "source": [
    "# Importing the packages to use\n",
    "from bs4 import BeautifulSoup\n",
    "import requests\n",
    "import pandas as pd"
   ]
  },
  {
   "cell_type": "code",
   "execution_count": null,
   "metadata": {},
   "outputs": [],
   "source": [
    "# Using the \"requests\" package to access the website\n",
    "# \"url\" variable represents the website's URL\n",
    "url = 'https://books.toscrape.com/'\n",
    "\n",
    "# \"headers\" variable represents the \"user-agent\", which is the browser I'm using to access\n",
    "headers = {'User-Agent': 'Mozilla/5.0 (Windows NT 10.0; Win64; x64) AppleWebKit/537.36 (KHTML, like Gecko) Chrome/130.0.0.0 Safari/537.36'}\n",
    "\n",
    "# \"page\" variable represents the request passsing the params \"url\" and \"headers\"\n",
    "page = requests.get(url, headers=headers)\n",
    "\n",
    "print(f'The page type is \"{type(page.text)}\"')"
   ]
  },
  {
   "cell_type": "code",
   "execution_count": null,
   "metadata": {},
   "outputs": [],
   "source": [
    "# It is in the \"soup\" where we will have the HTML to inspect.\n",
    "# Defining the \"soup\" to perform the scraping:\n",
    "soup = BeautifulSoup(page.text, 'html.parser')\n",
    "\n",
    "print(f'The \"soup\" type is \"{type(soup)}\"')\n"
   ]
  },
  {
   "cell_type": "code",
   "execution_count": null,
   "metadata": {},
   "outputs": [],
   "source": [
    "# Procurando elementos pela tag \"a\" (<a>) no HTML\n",
    "soup.find_all('a')[54]"
   ]
  }
 ],
 "metadata": {
  "language_info": {
   "name": "python"
  }
 },
 "nbformat": 4,
 "nbformat_minor": 2
}
